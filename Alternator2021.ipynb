{
  "nbformat": 4,
  "nbformat_minor": 0,
  "metadata": {
    "colab": {
      "name": "Alternator_2021.ipynb",
      "provenance": [],
      "collapsed_sections": [],
      "authorship_tag": "ABX9TyMU2kylJXzepbmahUd7GFqf",
      "include_colab_link": true
    },
    "kernelspec": {
      "name": "python3",
      "display_name": "Python 3"
    },
    "language_info": {
      "name": "python"
    }
  },
  "cells": [
    {
      "cell_type": "markdown",
      "metadata": {
        "id": "view-in-github",
        "colab_type": "text"
      },
      "source": [
        "<a href=\"https://colab.research.google.com/github/nuvita97/Alternator-Analytics/blob/main/Alternator2021.ipynb\" target=\"_parent\"><img src=\"https://colab.research.google.com/assets/colab-badge.svg\" alt=\"Open In Colab\"/></a>"
      ]
    },
    {
      "cell_type": "code",
      "execution_count": 1,
      "metadata": {
        "colab": {
          "base_uri": "https://localhost:8080/"
        },
        "id": "61dKkfCHk7jH",
        "outputId": "0198a1ec-6289-45b7-a3f7-53f6b83091df"
      },
      "outputs": [
        {
          "output_type": "stream",
          "name": "stdout",
          "text": [
            "Mounted at /content/drive\n"
          ]
        }
      ],
      "source": [
        "# Read data from Google Drive\n",
        "from google.colab import drive\n",
        "drive.mount('/content/drive')"
      ]
    },
    {
      "cell_type": "code",
      "source": [
        "import os\n",
        "import pandas as pd\n",
        "\n",
        "path = '/content/drive/MyDrive/000. HUUTOAN/ALTERNATOR'\n",
        "\n",
        "os.chdir(path) # Change directory\n",
        "os.listdir(path) # List directory"
      ],
      "metadata": {
        "colab": {
          "base_uri": "https://localhost:8080/"
        },
        "id": "Kx2yQLbclsUS",
        "outputId": "d6786617-ff86-4563-e5a2-7a2ef95e7697"
      },
      "execution_count": 2,
      "outputs": [
        {
          "output_type": "execute_result",
          "data": {
            "text/plain": [
              "['Alternator_2021.ipynb',\n",
              " 'preview.xlsx',\n",
              " 'genset.xlsx',\n",
              " 'data.xlsx',\n",
              " 'Bao cao 8501 (T1 - T11.2021).xlsx',\n",
              " 'preview.csv',\n",
              " 'data.csv',\n",
              " 'alte_kw.xlsx',\n",
              " 'alte_kva.xlsx',\n",
              " 'Copy of Alternator_2021.ipynb',\n",
              " 'alte.xlsx']"
            ]
          },
          "metadata": {},
          "execution_count": 2
        }
      ]
    },
    {
      "cell_type": "code",
      "source": [
        "# Read file\n",
        "data = pd.read_excel('Bao cao 8501 (T1 - T11.2021).xlsx', header = 0, sheet_name = 'Bao cao nhap khau_working')\n",
        "\n",
        "print(data.shape) # Number of rows & columns\n",
        "\n",
        "# Uppercase to standardize\n",
        "data['IMPORTER'] = data['IMPORTER'].str.upper() \n",
        "data['DETAILED COMMODITY'] = data['DETAILED COMMODITY'].str.upper()\n",
        "\n",
        "display(data.head())\n",
        "display(data.info())"
      ],
      "metadata": {
        "colab": {
          "base_uri": "https://localhost:8080/",
          "height": 1000
        },
        "id": "unKMcS0KlyVk",
        "outputId": "f3cf7481-56af-4914-aa7a-a5f586572301"
      },
      "execution_count": 3,
      "outputs": [
        {
          "output_type": "stream",
          "name": "stdout",
          "text": [
            "(120830, 23)\n"
          ]
        },
        {
          "output_type": "display_data",
          "data": {
            "text/plain": [
              "   INDEX       DATE                          IMPORT TYPE    TAX CODE  \\\n",
              "0      1 2021-01-01            Nhập kinh doanh tiêu dùng  4900862482   \n",
              "1      2 2021-01-01            Nhập kinh doanh tiêu dùng  4900862482   \n",
              "2      3 2021-01-01             Nhập kinh doanh sản xuất  2300852009   \n",
              "3      4 2021-01-02  Nhập nguyên liệu sản xuất xuất khẩu   304905709   \n",
              "4      5 2021-01-02  Nhập nguyên liệu sản xuất xuất khẩu   304905709   \n",
              "\n",
              "                                       IMPORTER   HS CODE  \\\n",
              "0  CÔNG TY TNHH THƯƠNG MẠI VÀ XUẤT NHẬP KHẨU HD  85014019   \n",
              "1  CÔNG TY TNHH THƯƠNG MẠI VÀ XUẤT NHẬP KHẨU HD  85014019   \n",
              "2         CÔNG TY TNHH SAMSUNG DISPLAY VIỆT NAM  85011029   \n",
              "3                   CÔNG TY TNHH JABIL VIỆT NAM  85011029   \n",
              "4                   CÔNG TY TNHH JABIL VIỆT NAM  85011029   \n",
              "\n",
              "                                        EXPORTER            ORIGIN       UNIT  \\\n",
              "0  GUANGXI PINGXIANG CITY TIANBANG TRADE CO.,LTD             China  cái/chiếc   \n",
              "1  GUANGXI PINGXIANG CITY TIANBANG TRADE CO.,LTD             China  cái/chiếc   \n",
              "2                          EO TECHNICS CO., LTD.  Korea (Republic)  cái/chiếc   \n",
              "3                       SHINANO KENSHI CO., LTD.             China  cái/chiếc   \n",
              "4                       SHINANO KENSHI CO., LTD.             China  cái/chiếc   \n",
              "\n",
              "   QUANTITY  ...  AMOUNT (VND)  AMOUNT (USD)    EXPORT COUNTRY  \\\n",
              "0      60.0  ...    38707200.0       1680.00             China   \n",
              "1      40.0  ...    19906560.0        864.00             China   \n",
              "2       1.0  ...    73114444.8       3173.37  Korea (Republic)   \n",
              "3    3840.0  ...   330891264.0      14361.60             China   \n",
              "4    1920.0  ...   165445632.0       7180.80             China   \n",
              "\n",
              "                                  DETAILED COMMODITY  PRODUCT TYPE CHECK NEW  \\\n",
              "0  ĐỘNG CƠ RÈM CỬA. MÃ HIỆU:AM68-1.5/100 EMP,ĐIỆN...           NaN       NaN   \n",
              "1  ĐỘNG CƠ RÈM CỬA. MÃ HIỆU:N18-4A5-2,ĐIỆN XOAY C...           NaN       NaN   \n",
              "2  (Q430-104377) ĐỘNG CƠ BƯỚC 8330K , LOẠI 1 CHIỀ...           NaN       NaN   \n",
              "3  P1027053-LF#&MÔ TƠ MỘT CHIỀU (ĐỘNG CƠ BƯỚC, CÔ...           NaN       NaN   \n",
              "4  P1027053-LF#&MÔ TƠ MỘT CHIỀU (ĐỘNG CƠ BƯỚC, CÔ...           NaN       NaN   \n",
              "\n",
              "  BRAND  MODEL  POWER  POWER UOM  \n",
              "0   NaN    NaN    NaN        NaN  \n",
              "1   NaN    NaN    NaN        NaN  \n",
              "2   NaN    NaN    NaN        NaN  \n",
              "3   NaN    NaN    NaN        NaN  \n",
              "4   NaN    NaN    NaN        NaN  \n",
              "\n",
              "[5 rows x 23 columns]"
            ],
            "text/html": [
              "\n",
              "  <div id=\"df-d35b2093-2987-4315-ad8d-9e89cf5501df\">\n",
              "    <div class=\"colab-df-container\">\n",
              "      <div>\n",
              "<style scoped>\n",
              "    .dataframe tbody tr th:only-of-type {\n",
              "        vertical-align: middle;\n",
              "    }\n",
              "\n",
              "    .dataframe tbody tr th {\n",
              "        vertical-align: top;\n",
              "    }\n",
              "\n",
              "    .dataframe thead th {\n",
              "        text-align: right;\n",
              "    }\n",
              "</style>\n",
              "<table border=\"1\" class=\"dataframe\">\n",
              "  <thead>\n",
              "    <tr style=\"text-align: right;\">\n",
              "      <th></th>\n",
              "      <th>INDEX</th>\n",
              "      <th>DATE</th>\n",
              "      <th>IMPORT TYPE</th>\n",
              "      <th>TAX CODE</th>\n",
              "      <th>IMPORTER</th>\n",
              "      <th>HS CODE</th>\n",
              "      <th>EXPORTER</th>\n",
              "      <th>ORIGIN</th>\n",
              "      <th>UNIT</th>\n",
              "      <th>QUANTITY</th>\n",
              "      <th>...</th>\n",
              "      <th>AMOUNT (VND)</th>\n",
              "      <th>AMOUNT (USD)</th>\n",
              "      <th>EXPORT COUNTRY</th>\n",
              "      <th>DETAILED COMMODITY</th>\n",
              "      <th>PRODUCT TYPE</th>\n",
              "      <th>CHECK NEW</th>\n",
              "      <th>BRAND</th>\n",
              "      <th>MODEL</th>\n",
              "      <th>POWER</th>\n",
              "      <th>POWER UOM</th>\n",
              "    </tr>\n",
              "  </thead>\n",
              "  <tbody>\n",
              "    <tr>\n",
              "      <th>0</th>\n",
              "      <td>1</td>\n",
              "      <td>2021-01-01</td>\n",
              "      <td>Nhập kinh doanh tiêu dùng</td>\n",
              "      <td>4900862482</td>\n",
              "      <td>CÔNG TY TNHH THƯƠNG MẠI VÀ XUẤT NHẬP KHẨU HD</td>\n",
              "      <td>85014019</td>\n",
              "      <td>GUANGXI PINGXIANG CITY TIANBANG TRADE CO.,LTD</td>\n",
              "      <td>China</td>\n",
              "      <td>cái/chiếc</td>\n",
              "      <td>60.0</td>\n",
              "      <td>...</td>\n",
              "      <td>38707200.0</td>\n",
              "      <td>1680.00</td>\n",
              "      <td>China</td>\n",
              "      <td>ĐỘNG CƠ RÈM CỬA. MÃ HIỆU:AM68-1.5/100 EMP,ĐIỆN...</td>\n",
              "      <td>NaN</td>\n",
              "      <td>NaN</td>\n",
              "      <td>NaN</td>\n",
              "      <td>NaN</td>\n",
              "      <td>NaN</td>\n",
              "      <td>NaN</td>\n",
              "    </tr>\n",
              "    <tr>\n",
              "      <th>1</th>\n",
              "      <td>2</td>\n",
              "      <td>2021-01-01</td>\n",
              "      <td>Nhập kinh doanh tiêu dùng</td>\n",
              "      <td>4900862482</td>\n",
              "      <td>CÔNG TY TNHH THƯƠNG MẠI VÀ XUẤT NHẬP KHẨU HD</td>\n",
              "      <td>85014019</td>\n",
              "      <td>GUANGXI PINGXIANG CITY TIANBANG TRADE CO.,LTD</td>\n",
              "      <td>China</td>\n",
              "      <td>cái/chiếc</td>\n",
              "      <td>40.0</td>\n",
              "      <td>...</td>\n",
              "      <td>19906560.0</td>\n",
              "      <td>864.00</td>\n",
              "      <td>China</td>\n",
              "      <td>ĐỘNG CƠ RÈM CỬA. MÃ HIỆU:N18-4A5-2,ĐIỆN XOAY C...</td>\n",
              "      <td>NaN</td>\n",
              "      <td>NaN</td>\n",
              "      <td>NaN</td>\n",
              "      <td>NaN</td>\n",
              "      <td>NaN</td>\n",
              "      <td>NaN</td>\n",
              "    </tr>\n",
              "    <tr>\n",
              "      <th>2</th>\n",
              "      <td>3</td>\n",
              "      <td>2021-01-01</td>\n",
              "      <td>Nhập kinh doanh sản xuất</td>\n",
              "      <td>2300852009</td>\n",
              "      <td>CÔNG TY TNHH SAMSUNG DISPLAY VIỆT NAM</td>\n",
              "      <td>85011029</td>\n",
              "      <td>EO TECHNICS CO., LTD.</td>\n",
              "      <td>Korea (Republic)</td>\n",
              "      <td>cái/chiếc</td>\n",
              "      <td>1.0</td>\n",
              "      <td>...</td>\n",
              "      <td>73114444.8</td>\n",
              "      <td>3173.37</td>\n",
              "      <td>Korea (Republic)</td>\n",
              "      <td>(Q430-104377) ĐỘNG CƠ BƯỚC 8330K , LOẠI 1 CHIỀ...</td>\n",
              "      <td>NaN</td>\n",
              "      <td>NaN</td>\n",
              "      <td>NaN</td>\n",
              "      <td>NaN</td>\n",
              "      <td>NaN</td>\n",
              "      <td>NaN</td>\n",
              "    </tr>\n",
              "    <tr>\n",
              "      <th>3</th>\n",
              "      <td>4</td>\n",
              "      <td>2021-01-02</td>\n",
              "      <td>Nhập nguyên liệu sản xuất xuất khẩu</td>\n",
              "      <td>304905709</td>\n",
              "      <td>CÔNG TY TNHH JABIL VIỆT NAM</td>\n",
              "      <td>85011029</td>\n",
              "      <td>SHINANO KENSHI CO., LTD.</td>\n",
              "      <td>China</td>\n",
              "      <td>cái/chiếc</td>\n",
              "      <td>3840.0</td>\n",
              "      <td>...</td>\n",
              "      <td>330891264.0</td>\n",
              "      <td>14361.60</td>\n",
              "      <td>China</td>\n",
              "      <td>P1027053-LF#&amp;MÔ TƠ MỘT CHIỀU (ĐỘNG CƠ BƯỚC, CÔ...</td>\n",
              "      <td>NaN</td>\n",
              "      <td>NaN</td>\n",
              "      <td>NaN</td>\n",
              "      <td>NaN</td>\n",
              "      <td>NaN</td>\n",
              "      <td>NaN</td>\n",
              "    </tr>\n",
              "    <tr>\n",
              "      <th>4</th>\n",
              "      <td>5</td>\n",
              "      <td>2021-01-02</td>\n",
              "      <td>Nhập nguyên liệu sản xuất xuất khẩu</td>\n",
              "      <td>304905709</td>\n",
              "      <td>CÔNG TY TNHH JABIL VIỆT NAM</td>\n",
              "      <td>85011029</td>\n",
              "      <td>SHINANO KENSHI CO., LTD.</td>\n",
              "      <td>China</td>\n",
              "      <td>cái/chiếc</td>\n",
              "      <td>1920.0</td>\n",
              "      <td>...</td>\n",
              "      <td>165445632.0</td>\n",
              "      <td>7180.80</td>\n",
              "      <td>China</td>\n",
              "      <td>P1027053-LF#&amp;MÔ TƠ MỘT CHIỀU (ĐỘNG CƠ BƯỚC, CÔ...</td>\n",
              "      <td>NaN</td>\n",
              "      <td>NaN</td>\n",
              "      <td>NaN</td>\n",
              "      <td>NaN</td>\n",
              "      <td>NaN</td>\n",
              "      <td>NaN</td>\n",
              "    </tr>\n",
              "  </tbody>\n",
              "</table>\n",
              "<p>5 rows × 23 columns</p>\n",
              "</div>\n",
              "      <button class=\"colab-df-convert\" onclick=\"convertToInteractive('df-d35b2093-2987-4315-ad8d-9e89cf5501df')\"\n",
              "              title=\"Convert this dataframe to an interactive table.\"\n",
              "              style=\"display:none;\">\n",
              "        \n",
              "  <svg xmlns=\"http://www.w3.org/2000/svg\" height=\"24px\"viewBox=\"0 0 24 24\"\n",
              "       width=\"24px\">\n",
              "    <path d=\"M0 0h24v24H0V0z\" fill=\"none\"/>\n",
              "    <path d=\"M18.56 5.44l.94 2.06.94-2.06 2.06-.94-2.06-.94-.94-2.06-.94 2.06-2.06.94zm-11 1L8.5 8.5l.94-2.06 2.06-.94-2.06-.94L8.5 2.5l-.94 2.06-2.06.94zm10 10l.94 2.06.94-2.06 2.06-.94-2.06-.94-.94-2.06-.94 2.06-2.06.94z\"/><path d=\"M17.41 7.96l-1.37-1.37c-.4-.4-.92-.59-1.43-.59-.52 0-1.04.2-1.43.59L10.3 9.45l-7.72 7.72c-.78.78-.78 2.05 0 2.83L4 21.41c.39.39.9.59 1.41.59.51 0 1.02-.2 1.41-.59l7.78-7.78 2.81-2.81c.8-.78.8-2.07 0-2.86zM5.41 20L4 18.59l7.72-7.72 1.47 1.35L5.41 20z\"/>\n",
              "  </svg>\n",
              "      </button>\n",
              "      \n",
              "  <style>\n",
              "    .colab-df-container {\n",
              "      display:flex;\n",
              "      flex-wrap:wrap;\n",
              "      gap: 12px;\n",
              "    }\n",
              "\n",
              "    .colab-df-convert {\n",
              "      background-color: #E8F0FE;\n",
              "      border: none;\n",
              "      border-radius: 50%;\n",
              "      cursor: pointer;\n",
              "      display: none;\n",
              "      fill: #1967D2;\n",
              "      height: 32px;\n",
              "      padding: 0 0 0 0;\n",
              "      width: 32px;\n",
              "    }\n",
              "\n",
              "    .colab-df-convert:hover {\n",
              "      background-color: #E2EBFA;\n",
              "      box-shadow: 0px 1px 2px rgba(60, 64, 67, 0.3), 0px 1px 3px 1px rgba(60, 64, 67, 0.15);\n",
              "      fill: #174EA6;\n",
              "    }\n",
              "\n",
              "    [theme=dark] .colab-df-convert {\n",
              "      background-color: #3B4455;\n",
              "      fill: #D2E3FC;\n",
              "    }\n",
              "\n",
              "    [theme=dark] .colab-df-convert:hover {\n",
              "      background-color: #434B5C;\n",
              "      box-shadow: 0px 1px 3px 1px rgba(0, 0, 0, 0.15);\n",
              "      filter: drop-shadow(0px 1px 2px rgba(0, 0, 0, 0.3));\n",
              "      fill: #FFFFFF;\n",
              "    }\n",
              "  </style>\n",
              "\n",
              "      <script>\n",
              "        const buttonEl =\n",
              "          document.querySelector('#df-d35b2093-2987-4315-ad8d-9e89cf5501df button.colab-df-convert');\n",
              "        buttonEl.style.display =\n",
              "          google.colab.kernel.accessAllowed ? 'block' : 'none';\n",
              "\n",
              "        async function convertToInteractive(key) {\n",
              "          const element = document.querySelector('#df-d35b2093-2987-4315-ad8d-9e89cf5501df');\n",
              "          const dataTable =\n",
              "            await google.colab.kernel.invokeFunction('convertToInteractive',\n",
              "                                                     [key], {});\n",
              "          if (!dataTable) return;\n",
              "\n",
              "          const docLinkHtml = 'Like what you see? Visit the ' +\n",
              "            '<a target=\"_blank\" href=https://colab.research.google.com/notebooks/data_table.ipynb>data table notebook</a>'\n",
              "            + ' to learn more about interactive tables.';\n",
              "          element.innerHTML = '';\n",
              "          dataTable['output_type'] = 'display_data';\n",
              "          await google.colab.output.renderOutput(dataTable, element);\n",
              "          const docLink = document.createElement('div');\n",
              "          docLink.innerHTML = docLinkHtml;\n",
              "          element.appendChild(docLink);\n",
              "        }\n",
              "      </script>\n",
              "    </div>\n",
              "  </div>\n",
              "  "
            ]
          },
          "metadata": {}
        },
        {
          "output_type": "stream",
          "name": "stdout",
          "text": [
            "<class 'pandas.core.frame.DataFrame'>\n",
            "RangeIndex: 120830 entries, 0 to 120829\n",
            "Data columns (total 23 columns):\n",
            " #   Column              Non-Null Count   Dtype         \n",
            "---  ------              --------------   -----         \n",
            " 0   INDEX               120830 non-null  int64         \n",
            " 1   DATE                120830 non-null  datetime64[ns]\n",
            " 2   IMPORT TYPE         120830 non-null  object        \n",
            " 3   TAX CODE            120830 non-null  int64         \n",
            " 4   IMPORTER            120830 non-null  object        \n",
            " 5   HS CODE             120830 non-null  int64         \n",
            " 6   EXPORTER            120830 non-null  object        \n",
            " 7   ORIGIN              120829 non-null  object        \n",
            " 8   UNIT                120829 non-null  object        \n",
            " 9   QUANTITY            120830 non-null  float64       \n",
            " 10  UNIT PRICE          120830 non-null  float64       \n",
            " 11  AMOUNT              120830 non-null  float64       \n",
            " 12  CURRENCY            120830 non-null  object        \n",
            " 13  AMOUNT (VND)        120830 non-null  float64       \n",
            " 14  AMOUNT (USD)        120830 non-null  float64       \n",
            " 15  EXPORT COUNTRY      120830 non-null  object        \n",
            " 16  DETAILED COMMODITY  120830 non-null  object        \n",
            " 17  PRODUCT TYPE        0 non-null       float64       \n",
            " 18  CHECK NEW           0 non-null       float64       \n",
            " 19  BRAND               0 non-null       float64       \n",
            " 20  MODEL               0 non-null       float64       \n",
            " 21  POWER               0 non-null       float64       \n",
            " 22  POWER UOM           0 non-null       float64       \n",
            "dtypes: datetime64[ns](1), float64(11), int64(3), object(8)\n",
            "memory usage: 21.2+ MB\n"
          ]
        },
        {
          "output_type": "display_data",
          "data": {
            "text/plain": [
              "None"
            ]
          },
          "metadata": {}
        }
      ]
    },
    {
      "cell_type": "code",
      "source": [
        "# Filter New/Used\n",
        "data.loc[data['DETAILED COMMODITY'].str.contains('100%'), 'CHECK NEW'] = 'New'\n",
        "data.loc[data['DETAILED COMMODITY'].str.contains('ĐÃ QUA SỬ DỤNG'), 'CHECK NEW'] = 'Used'\n",
        "data['CHECK NEW'] = data['CHECK NEW'].fillna('N/A')\n",
        "\n",
        "# Filter Alternator\n",
        "data.loc[data['DETAILED COMMODITY'].str.contains('MÁY PHÁT ĐIỆN'), 'PRODUCT TYPE'] = 'Máy phát điện'\n",
        "data.loc[data['DETAILED COMMODITY'].str.contains('ĐỘNG CƠ'), 'PRODUCT TYPE'] = 'Động cơ'\n",
        "data.loc[data['DETAILED COMMODITY'].str.contains('MÔ TƠ|MÔ-TƠ|MÔTƠ|MOTOR'), 'PRODUCT TYPE'] = 'Motor'\n",
        "data.loc[data['DETAILED COMMODITY'].str.contains('ĐẦU PHÁT|ĐẦU MÁY PHÁT|DÙNG CHO TỔ MÁY PHÁT ĐIỆN'), 'PRODUCT TYPE'] = 'Đầu phát'\n",
        "data.loc[data['DETAILED COMMODITY'].str.contains('DYNAMO'), 'PRODUCT TYPE'] = 'Dynamo'\n",
        "data['PRODUCT TYPE'] = data['PRODUCT TYPE'].fillna('N/A')\n",
        "\n",
        "# Filter Unit\n",
        "data.loc[data['DETAILED COMMODITY'].str.contains('W'), 'POWER UOM'] = 'W'\n",
        "data.loc[data['DETAILED COMMODITY'].str.contains('KW'), 'POWER UOM'] = 'KW'\n",
        "data.loc[data['DETAILED COMMODITY'].str.contains('KVA'), 'POWER UOM'] = 'KVA'\n",
        "data['POWER UOM'] = data['POWER UOM'].fillna('N/A')\n",
        "\n",
        "print(data['CHECK NEW'].value_counts())\n",
        "print('----------')\n",
        "print(data['PRODUCT TYPE'].value_counts())\n",
        "print('----------')\n",
        "print(data['POWER UOM'].value_counts())\n",
        "print('----------')"
      ],
      "metadata": {
        "colab": {
          "base_uri": "https://localhost:8080/"
        },
        "id": "I0mUPXammpVv",
        "outputId": "c35b8fc7-e626-48a0-fa8d-008d4f7e4ca6"
      },
      "execution_count": 4,
      "outputs": [
        {
          "output_type": "stream",
          "name": "stdout",
          "text": [
            "New     86344\n",
            "N/A     29425\n",
            "Used     5061\n",
            "Name: CHECK NEW, dtype: int64\n",
            "----------\n",
            "Motor            70361\n",
            "Động cơ          43474\n",
            "N/A               3126\n",
            "Máy phát điện     2151\n",
            "Đầu phát          1603\n",
            "Dynamo             115\n",
            "Name: PRODUCT TYPE, dtype: int64\n",
            "----------\n",
            "W      65294\n",
            "KW     29013\n",
            "N/A    24490\n",
            "KVA     2033\n",
            "Name: POWER UOM, dtype: int64\n",
            "----------\n"
          ]
        }
      ]
    },
    {
      "cell_type": "code",
      "source": [
        "# Fill Alternator dataframe\n",
        "alte = data[data['PRODUCT TYPE'] == 'Đầu phát']\n",
        "\n",
        "# Filter Check New in Alte\n",
        "print(alte['CHECK NEW'].value_counts())\n",
        "\n",
        "# Filter UOM in Alte\n",
        "print(alte['POWER UOM'].value_counts())\n",
        "print(alte['DETAILED COMMODITY'][alte['POWER UOM'] == 'N/A'])\n",
        "\n",
        "# Drop N/A & MW in POWER UOM (máy thủy & tuabin gió)\n",
        "alte = alte.drop(alte.index[alte['POWER UOM'] == 'N/A'])\n",
        "alte = alte.drop(alte.index[alte['POWER UOM'] == 'W'])\n",
        "print(alte['POWER UOM'].value_counts())"
      ],
      "metadata": {
        "id": "ig8tmnWQmLUf",
        "colab": {
          "base_uri": "https://localhost:8080/"
        },
        "outputId": "395bb365-cf4e-4723-d0d9-7720b58c3f04"
      },
      "execution_count": 5,
      "outputs": [
        {
          "output_type": "stream",
          "name": "stdout",
          "text": [
            "New    1151\n",
            "N/A     452\n",
            "Name: CHECK NEW, dtype: int64\n",
            "KW     1169\n",
            "KVA     420\n",
            "W        11\n",
            "N/A       3\n",
            "Name: POWER UOM, dtype: int64\n",
            "35752    ĐẦU PHÁT ĐIỆN 24V/10A P/N: VOP 21429786  DÙNG ...\n",
            "35753    ĐẦU PHÁT ĐIỆN 24V/10A P/N: VOP 3840181  DÙNG C...\n",
            "52429    ĐẦU PHÁT ĐIỆN 12V P/N: 22707961  DÙNG CHO MÁY ...\n",
            "Name: DETAILED COMMODITY, dtype: object\n",
            "KW     1169\n",
            "KVA     420\n",
            "Name: POWER UOM, dtype: int64\n"
          ]
        }
      ]
    },
    {
      "cell_type": "code",
      "source": [
        "# Extract Power number\n",
        "alte['POWER'] = alte[alte['POWER UOM'] == 'KVA']['DETAILED COMMODITY'].str.extract('(\\d*.\\d*\\s*)KVA')\n",
        "alte['POWER2'] = alte[alte['POWER UOM'] == 'KW']['DETAILED COMMODITY'].str.extract('(\\d*.\\d*\\s*)KW')\n",
        "\n",
        "# Clean number\n",
        "alte['POWER'] = alte['POWER'].str.strip() # Remove first & last space\n",
        "alte['POWER'] = alte['POWER'].str.replace('.*[,/()=:-]', '') # Remove special strings\n",
        "\n",
        "alte['POWER2'] = alte['POWER2'].str.strip() # Remove first & last space\n",
        "alte['POWER2'] = alte['POWER2'].str.replace('.*[,/()=:-]', '') # Remove special strings\n",
        "\n",
        "print(alte['POWER'].unique())\n",
        "print(alte['POWER2'].unique())"
      ],
      "metadata": {
        "colab": {
          "base_uri": "https://localhost:8080/"
        },
        "id": "W2m9gY74_NJ2",
        "outputId": "4e742220-3ecc-4f0d-cd6f-2d06c2396527"
      },
      "execution_count": 6,
      "outputs": [
        {
          "output_type": "stream",
          "name": "stdout",
          "text": [
            "['500' '200' nan '2200' '1450' '2060' '150' '715' '100' '25' '20' '37.5'\n",
            " '6' '135' '11' '31' '85' '30' '2360' '125' '140' '2500' '1600' '1915'\n",
            " '1505' '670' '400' '13.5' '8.5' '10' '12.5' '800' '600' '2020' '350'\n",
            " '230' '275' '300' '365' '410' '455' '550' '660' '750' '' '1000' '1500'\n",
            " '180' '165' '440' '385' '1100' '1375' '45' '62.5' '3.7' '2.7' '2000'\n",
            " '415' '250' '1020' '160' '450' '93.8' '32' '1860' '2300' '910' '138'\n",
            " '1150' '90' '437' '62.55' '82.5' '225' '325' '1250' '1640' '2450' '1133'\n",
            " '40' '60' '625' '1025' '1800' '2' '42' '8.4' '1615' '820' '12500' '2250'\n",
            " '1550' '8' '4 250' '2418' '15' '9.5' '1110' '8.1' '5' '12' '14' '22'\n",
            " '345' '1350' '380' '50' '80' '1510']\n",
            "[nan '13' '9.0' '5.5' '8.5' '8.0' '' '3.6' '7.5' '8.3' '3.2' '6.5' '5.0'\n",
            " '2.8' '6.2' '4.0' '6.25' '5.6' '3.7' '6_3' '3.3' '2.2' '8' '5' '3.5'\n",
            " '8.1' '3.4' '7.2' '6.0' '6.9' '21' '7' '18' '22' '1' '12.5' '9.5']\n"
          ]
        },
        {
          "output_type": "stream",
          "name": "stderr",
          "text": [
            "/usr/local/lib/python3.7/dist-packages/ipykernel_launcher.py:7: FutureWarning: The default value of regex will change from True to False in a future version.\n",
            "  import sys\n",
            "/usr/local/lib/python3.7/dist-packages/ipykernel_launcher.py:10: FutureWarning: The default value of regex will change from True to False in a future version.\n",
            "  # Remove the CWD from sys.path while we load stuff.\n"
          ]
        }
      ]
    },
    {
      "cell_type": "code",
      "source": [
        "# Extract Brand name\n",
        "alte['BRAND'] = alte['DETAILED COMMODITY'].str.extract('HIỆU([^,:]+)')\n",
        "alte['BRAND']= alte['BRAND'].str.strip()\n",
        "alte['BRAND'].unique()"
      ],
      "metadata": {
        "colab": {
          "base_uri": "https://localhost:8080/"
        },
        "id": "QKJbQk9ERWvM",
        "outputId": "6fe51bd4-6fcd-4ec7-b699-81d425cb0f76"
      },
      "execution_count": 7,
      "outputs": [
        {
          "output_type": "execute_result",
          "data": {
            "text/plain": [
              "array([nan, 'NSM', 'MECC ALTE', 'KWISE', 'CNSZ', 'LEROY SOMER', 'VEGA',\n",
              "       'SOGA', 'GENPARTS', 'SINOCOX', 'LEROYSOMER', 'LINZ',\n",
              "       'DINGOL MODEL DG 544C', 'STAMFORD',\n",
              "       'CATERPILLAR (P.2620) - HÀNG MỚI 100%',\n",
              "       'CATERPILLAR (P.2626) - HÀNG MỚI 100%', 'MECC ALTE. MODEL',\n",
              "       'AOSIF', 'DINGOL MODEL DG 274C', 'DINGOL MODEL DG 224G',\n",
              "       'DINGOL MODEL DG 274K', 'SINOCOX DÙNG CHO TỔ MÁY PHÁT ĐIỆN',\n",
              "       'MECC ALTE MODEL ECO38 1S4A', 'MECC ALTE ITALY MODEL ECO43 1M4A',\n",
              "       'LINZ- MODEL', 'FARADAY', 'INGCO', 'CATER. HÀNG MỚI 100%',\n",
              "       'SINCRO DÙNG CHO MÁY PHÁT ĐIỆN', 'LEROY-SOMER',\n",
              "       'DINGOL MODEL DG 634E', 'SINCRO MODEL SK132M',\n",
              "       'SINCRO MODEL SK160CA1', 'SINCRO MODEL SK160CB1',\n",
              "       'SINCRO MODEL SK160LA1', 'RUNDA', 'NHSTAR', 'DINGOL MODEL DG444D',\n",
              "       'DINGOL MODEL DGK444F'], dtype=object)"
            ]
          },
          "metadata": {},
          "execution_count": 7
        }
      ]
    },
    {
      "cell_type": "code",
      "source": [
        "# Extract Model name\n",
        "alte['MODEL'] = alte['DETAILED COMMODITY'].str.extract('MODEL\\:?([^,()]+)')\n",
        "# alte['MODEL'] = alte['DETAILED COMMODITY'].str.extract('MODEL\\s?\\:?([^,]+),')\n",
        "# alte['MODEL'] = alte['MODEL'].str.extract(:)\n",
        "alte['MODEL']= alte['MODEL'].str.strip()\n",
        "alte['MODEL'].unique()"
      ],
      "metadata": {
        "colab": {
          "base_uri": "https://localhost:8080/"
        },
        "id": "dkKLelW6RXVz",
        "outputId": "8465272a-85bd-4f33-9d57-20d3487c5e20"
      },
      "execution_count": 8,
      "outputs": [
        {
          "output_type": "execute_result",
          "data": {
            "text/plain": [
              "array([nan, 'L51L7', 'MG-L50L8', 'MG-L51S58', 'ECO38 1S4A', 'S354G520E7',\n",
              "       'ECP34 2S4C', 'ECO40 3S4B', 'ECP28 L4C', 'ECP28 M4C', 'ECP32 1S4C',\n",
              "       'S20W-95/B', 'ECP34 2M4C', 'ECP34-1L/4C', 'ES20F-200', 'SZN164C',\n",
              "       'SZN184G', 'TALA44C CÔNG XUẤT LIÊN TỤC 85KVA', 'ECP28 VL4C',\n",
              "       'MG-L51M68', 'MG- L51L7', 'MG-L51V9', 'VGU270B', 'VGU270C',\n",
              "       'VGU270D', 'VGU270ES', 'MG-L52S7M', 'MG-L50V1', 'MG-7PC',\n",
              "       'MG-HC5F.CÔNG SUẤT 670 KVA', 'ECO40 1S4B', 'ECP3 2L4',\n",
              "       'ECP34 1L4 C', 'ECP3 1L4', 'ECP28 3S4C',\n",
              "       'MG-HC6G.CÔNG SUẤT 800 KVA', 'LSA 50.2L7', 'TAL A44 D J6S/4',\n",
              "       'TAL A44 E J6S/4', 'TAL A44 J J6S/4', 'TAL A44 M J6S/4',\n",
              "       'TAL A46 C J6S/4', 'TAL A46 E J6S/4', 'TAL A46 F J6S/4',\n",
              "       'TAL A46 H J6S/4', 'TAL A47 A J6S/4', 'TAL A47 B J6S/4',\n",
              "       'TAL A47 C J6S/4', 'TAL A47 D J6S/4', 'TAL A47 F J6S/4',\n",
              "       'TAL A49 B J6S/4', 'MG-HC6J', 'MG-7PF.CÔNG SUẤT 2020 KVA',\n",
              "       'MG-L52L9M', 'ECP34 1L4C', 'ECO38 1S4 A', 'ECO40 1S4 B',\n",
              "       'S274G120C5', 'S314G320E8', 'S314G280D6', 'S404G800D4',\n",
              "       'S404G1000E6', 'ECP32 1S4 C', 'ECP32 2S4 C', 'ECP32 2M4 C',\n",
              "       'MG-L52S6', 'ECP34 2M4 C', 'TAL-A44-C', 'TAL-A44-D', 'TAL-A44-E',\n",
              "       'TAL-A44-J', 'TAL-A44-L', 'TAL-A44-M', 'TAL-A46-D', 'TAL-A46-F',\n",
              "       'TAL-A46-H', 'TAL-A47-A', 'TAL-A47-C', 'TAL-A47-F', 'TAL-A49-B',\n",
              "       'ECP34 1M4C', 'SMF400E', 'TAL A44M', 'TAL A47A', 'TAL A47E',\n",
              "       'LSA50.2L8', 'DG 544C', 'MP-H-50-4', 'MP-H-75-4', 'VGU180E',\n",
              "       'TAL A44C', 'MG-L52S5', 'MG-L52S68', 'MG-HC6H', 'TAL-A44-H',\n",
              "       'TAL-A46-C', 'TAL-A46-E', 'LSAP42.3E CÔNG XUẤT LIÊN TỤC 20KVA',\n",
              "       'LSAP42.3C CÔNG XUẤT LIÊN TỤC 30KVA',\n",
              "       'LSAP44.3C CÔNG XUẤT LIÊN TỤC 100KVA',\n",
              "       'LSAP45M1 CÔNG XUẤT LIÊN TỤC 200KVA', 'S4L1S-F4', 'MG-L52S58',\n",
              "       'PI734C1', 'ECO43 2M4 A', 'ECP28 M4 C', 'SMF270G',\n",
              "       'LSF46.2M3 C6S/4', 'LSAM47.2 L9-4P. CÔNG SUẤT 437KVA', 'ECP322S4C',\n",
              "       'ECP322M4C', 'ECP322L4C', 'THA 274C', 'THA 224G', 'THA 274E',\n",
              "       'THA 274FS', 'THA 274K', 'ECP32 2L4C', 'ECO38 3S4A', 'ECO40 1L4 B',\n",
              "       'MG-HC5D.CÔNG SUẤT 500 KVA', 'MG-73PD', 'AA-260-4', 'AA-400-4',\n",
              "       'TA LA46 HJ6S/4. CÔNG XUẤT LIÊN TỤC 365KVA',\n",
              "       'TAL A49 EJ6S/4 CÔNG XUẤT LIÊN TỤC 1000KVA',\n",
              "       'LSA 50.2 M6 C6S/4 CÔNG XUẤT LIÊN TỤC 1250KVA',\n",
              "       'LSA50.2VL10C6S/4 CÔNG XUẤT LIÊN TỤC 1640KVA',\n",
              "       'LSA52.3S6C6S/4 CÔNG XUẤT LIÊN TỤC 2000KVA', 'DG 274C', 'DG 224G',\n",
              "       'DG 274K', 'SMF270B', 'SMF270D', 'SMF270ES', 'SMF270J', 'SMF315C',\n",
              "       'SMF315G', 'SMF355B', 'SMF355D', 'MG-L52S78', 'DWI400F',\n",
              "       'ECO40 1.5L4A', 'ECO43 1M4A', 'TALA46H', 'G1R250SB', 'G1R250LD',\n",
              "       'G1R355SB', 'ECP28 L4 C', 'MG-L50V18', 'KT7', 'PRO18M E/4',\n",
              "       'VGU270J', 'FD1K', 'FD3DS', 'FD3D', 'FD3F', 'FD6AS', 'MG-7PD',\n",
              "       'ECO40-1.5L4B', 'ECO38 2S4A', 'ECP34 2L4C', 'TALA44DJ6S/4',\n",
              "       'TALA44EJ6S/4', 'TALA44JJ6S/4', 'TALA44MJ6S/4', 'TALA46DJ6S/4',\n",
              "       'TALA46FJ6S/4', 'TALA473AJ6S/4', 'TALA473CJ6S/4', 'TALA49CJ6S/4',\n",
              "       'TALA49EJ6S/4', 'LSA50.2M6C6S/4', 'KT82M', 'VGU225D', 'VGU270G',\n",
              "       'SMF315D', 'SMF355C', 'ECO38 2M4 C', 'MG-L50L78', 'ECO40 1L4B',\n",
              "       'SK225MN', 'SK250SL', 'SK250MM', 'SK250LS', 'SK315SS', 'SK315SM',\n",
              "       'SK355MS', 'MG-L52S7S', 'MG-HC5F', 'MG-7PD.CÔNG SUẤT 1615 KVA',\n",
              "       'ES20FS-160', 'DG 634E', 'TAL A 49E J6S/4', 'LSA 50.2 L8 C6S/4',\n",
              "       'LSA50.2 VL10 C6S/4', 'TAL A47C', 'TAL 047F', 'TAL A49B',\n",
              "       'TAL A49E', 'ECO38 1L4 A', 'ECO38 2L4 A', 'ECO38 2S4 A', 'SK132M',\n",
              "       'SK160CA1', 'SK160CB1', 'SK160LA1', 'MG-L50L7', 'SMF315E',\n",
              "       'SMF315F', 'DG444D', 'DGK444F', 'VGU225C', 'VGU225FS', 'VGU315C',\n",
              "       'VGU315E', 'VGU315G', 'VGU400E', 'VGU500E'], dtype=object)"
            ]
          },
          "metadata": {},
          "execution_count": 8
        }
      ]
    },
    {
      "cell_type": "code",
      "source": [
        "# Export to Excel\n",
        "alte.to_excel('alte.xlsx', index = False)"
      ],
      "metadata": {
        "id": "aIO7In6zTfhX"
      },
      "execution_count": 9,
      "outputs": []
    },
    {
      "cell_type": "code",
      "source": [
        ""
      ],
      "metadata": {
        "id": "iBD-COS4T_RY"
      },
      "execution_count": null,
      "outputs": []
    }
  ]
}